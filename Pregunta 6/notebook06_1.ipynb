{
 "cells": [
  {
   "cell_type": "markdown",
   "metadata": {},
   "source": [
    "# Pregunta 6\n",
    "\n",
    "## Con el uso de EXCEL, realice en el algoritmo genético de $f(x)=x^{2x}-1$. Al menos tres generaciones. Automatice el cálculo.\n",
    "\n",
    "### R.-"
   ]
  }
 ],
 "metadata": {
  "language_info": {
   "name": "python"
  }
 },
 "nbformat": 4,
 "nbformat_minor": 2
}
