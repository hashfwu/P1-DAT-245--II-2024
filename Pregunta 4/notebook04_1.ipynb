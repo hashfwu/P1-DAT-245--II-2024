{
 "cells": [
  {
   "cell_type": "markdown",
   "metadata": {},
   "source": [
    "# Pregunta 4\n",
    "\n",
    "## Con el uso de librerías realiza en Python los mismos preprocesamiento del punto 3.\n",
    "\n",
    "### R.-"
   ]
  },
  {
   "cell_type": "markdown",
   "metadata": {},
   "source": [
    "Primero, como los colores son valores **continuos**, primero normalizaremos y discretizaremos el dataset. Como cada dataset tiene 4096 columnas, la **normalización** y **dicretización** serán **binarias**, así cuando hagamos el `onehotencoder`, y el `labelencoder` las columnas serán 8192 por dataset."
   ]
  },
  {
   "cell_type": "code",
   "execution_count": 30,
   "metadata": {},
   "outputs": [],
   "source": [
    "import os\n",
    "\n",
    "current_dir = os.getcwd()\n",
    "\n",
    "input_folder = os.path.join(os.path.dirname(current_dir), \"Pregunta 2/dataset02_2\")\n"
   ]
  },
  {
   "cell_type": "code",
   "execution_count": 51,
   "metadata": {},
   "outputs": [],
   "source": [
    "import os\n",
    "import numpy as np\n",
    "import pandas as pd\n",
    "from PIL import Image\n",
    "from sklearn.preprocessing import MinMaxScaler\n",
    "\n",
    "red_data_unnormalized = []\n",
    "green_data_unnormalized = []\n",
    "blue_data_unnormalized = []\n",
    "gray_data_unnormalized = []\n",
    "\n",
    "# Inicializa listas para almacenar los datos de cada canal\n",
    "red_data = []\n",
    "green_data = []\n",
    "blue_data = []\n",
    "gray_data = []\n",
    "\n",
    "# Recorre cada imagen en el directorio\n",
    "for filename in os.listdir(input_folder):\n",
    "    if filename.endswith('.jpg'):\n",
    "        img_path = os.path.join(input_folder, filename)\n",
    "        \n",
    "        # Carga la imagen\n",
    "        img = Image.open(img_path)\n",
    "        \n",
    "        # Convierte la imagen a RGB\n",
    "        img = img.convert('RGB')\n",
    "        \n",
    "        # Convierte la imagen a un array de numpy\n",
    "        img_array = np.array(img)\n",
    "        \n",
    "        # Separa los canales rojo, verde y azul\n",
    "        red_channel = img_array[:,:,0].flatten()   # 4096 elementos\n",
    "        green_channel = img_array[:,:,1].flatten() # 4096 elementos\n",
    "        blue_channel = img_array[:,:,2].flatten()  # 4096 elementos\n",
    "        \n",
    "        # Calcula la escala de grises\n",
    "        grayscale = np.dot(img_array[...,:3], [0.2989, 0.5870, 0.1140])  # Convierte a escala de grises\n",
    "        gray_channel = grayscale.flatten()  # 4096 elementos\n",
    "\n",
    "        # Normalizar y discretizar entre 0 y 1\n",
    "        scaler = MinMaxScaler()\n",
    "        \n",
    "        red_data_unnormalized.append(red_channel)\n",
    "        green_data_unnormalized.append(green_channel)\n",
    "        blue_data_unnormalized.append(blue_channel)\n",
    "        gray_data_unnormalized.append(gray_channel)\n",
    "        \n",
    "        \n",
    "        red_channel = red_channel.reshape(-1,1)\n",
    "        green_channel = green_channel.reshape(-1,1)\n",
    "        blue_channel = blue_channel.reshape(-1,1)\n",
    "        gray_channel = gray_channel.reshape(-1,1)        \n",
    "\n",
    "        red_channel = scaler.fit_transform(red_channel)\n",
    "        green_channel = scaler.fit_transform(green_channel)\n",
    "        blue_channel = scaler.fit_transform(blue_channel)\n",
    "        gray_channel = scaler.fit_transform(gray_channel)\n",
    "                \n",
    "        red_channel = (red_channel >= 0.5).astype(int)\n",
    "        green_channel = (green_channel >= 0.5).astype(int)\n",
    "        blue_channel = (blue_channel >= 0.5).astype(int)\n",
    "        gray_channel = (gray_channel >= 0.5).astype(int)   \n",
    "\n",
    "        # Agrega los canales a sus respectivas listas\n",
    "        red_data.append(red_channel.flatten())\n",
    "        green_data.append(green_channel.flatten())\n",
    "        blue_data.append(blue_channel.flatten())\n",
    "        gray_data.append(gray_channel.flatten())"
   ]
  },
  {
   "cell_type": "code",
   "execution_count": null,
   "metadata": {},
   "outputs": [],
   "source": [
    "dataFramesUnnormalized=[]\n",
    "\n",
    "for data in [red_data_unnormalized, green_data_unnormalized, blue_data_unnormalized, gray_data_unnormalized]:\n",
    "    df = pd.DataFrame(data)  # Cada lista tiene 5000 elementos, cada uno con 4096 valores\n",
    "    dataFramesUnnormalized.append(df)"
   ]
  },
  {
   "cell_type": "markdown",
   "metadata": {},
   "source": [
    "Coleccionando dataframes"
   ]
  },
  {
   "cell_type": "code",
   "execution_count": 40,
   "metadata": {},
   "outputs": [],
   "source": [
    "dataFrames=[]\n",
    "\n",
    "for data in [red_data, green_data, blue_data, gray_data]:\n",
    "    df = pd.DataFrame(data)  # Cada lista tiene 1000 elementos, cada uno con 4096 valores\n",
    "    dataFrames.append(df)    \n",
    "\n",
    "    # df.to_csv(tempName, index=False, header=False)"
   ]
  },
  {
   "cell_type": "code",
   "execution_count": 53,
   "metadata": {},
   "outputs": [],
   "source": [
    "dataFramesUnnormalized=[]\n",
    "\n",
    "for data in [red_data_unnormalized, green_data_unnormalized, blue_data_unnormalized, gray_data_unnormalized]:\n",
    "    df = pd.DataFrame(data)  # Cada lista tiene 1000 elementos, cada uno con 4096 valores\n",
    "    dataFramesUnnormalized.append(df)"
   ]
  },
  {
   "cell_type": "markdown",
   "metadata": {},
   "source": [
    "Cada imagen tiene $64x64$ pixeles, oses $4096$, y son $5000$ imagenes."
   ]
  },
  {
   "cell_type": "code",
   "execution_count": 42,
   "metadata": {},
   "outputs": [
    {
     "name": "stdout",
     "output_type": "stream",
     "text": [
      "      0     1     2     3     4     5     6     7     8     9     ...  4086  \\\n",
      "0        1     1     1     1     1     1     0     0     1     0  ...     1   \n",
      "1        0     1     0     1     1     1     0     0     0     0  ...     1   \n",
      "2        1     1     1     1     1     1     1     1     1     0  ...     0   \n",
      "3        0     0     0     0     0     1     1     1     0     0  ...     0   \n",
      "4        1     1     1     1     1     1     1     1     1     1  ...     0   \n",
      "...    ...   ...   ...   ...   ...   ...   ...   ...   ...   ...  ...   ...   \n",
      "4995     0     0     0     0     0     0     0     0     0     0  ...     1   \n",
      "4996     1     1     1     1     1     1     1     1     1     1  ...     1   \n",
      "4997     1     1     1     1     1     1     1     1     1     1  ...     0   \n",
      "4998     1     1     1     1     1     1     1     1     1     1  ...     0   \n",
      "4999     0     1     1     1     1     1     1     1     1     1  ...     1   \n",
      "\n",
      "      4087  4088  4089  4090  4091  4092  4093  4094  4095  \n",
      "0        1     1     1     1     1     1     1     1     1  \n",
      "1        1     1     1     1     1     1     1     1     1  \n",
      "2        0     0     0     0     0     0     0     0     0  \n",
      "3        0     0     0     0     0     0     0     0     0  \n",
      "4        0     0     0     0     0     0     0     0     0  \n",
      "...    ...   ...   ...   ...   ...   ...   ...   ...   ...  \n",
      "4995     1     1     1     1     1     1     1     1     1  \n",
      "4996     1     1     1     0     1     1     1     1     1  \n",
      "4997     1     0     1     0     0     0     0     0     0  \n",
      "4998     0     1     0     1     0     0     0     0     0  \n",
      "4999     1     1     1     1     1     1     1     1     1  \n",
      "\n",
      "[5000 rows x 4096 columns]\n"
     ]
    }
   ],
   "source": [
    "print(dataFrames[0])"
   ]
  },
  {
   "cell_type": "markdown",
   "metadata": {},
   "source": [
    "OneHotEncoder"
   ]
  },
  {
   "cell_type": "code",
   "execution_count": 45,
   "metadata": {},
   "outputs": [
    {
     "name": "stdout",
     "output_type": "stream",
     "text": [
      "      0     1     2     3     4     5     6     7     8     9     ...  8182  \\\n",
      "0        0     1     0     1     0     1     0     1     0     1  ...     0   \n",
      "1        1     0     0     1     1     0     0     1     0     1  ...     0   \n",
      "2        0     1     0     1     0     1     0     1     0     1  ...     1   \n",
      "3        1     0     1     0     1     0     1     0     1     0  ...     1   \n",
      "4        0     1     0     1     0     1     0     1     0     1  ...     1   \n",
      "...    ...   ...   ...   ...   ...   ...   ...   ...   ...   ...  ...   ...   \n",
      "4995     1     0     1     0     1     0     1     0     1     0  ...     0   \n",
      "4996     0     1     0     1     0     1     0     1     0     1  ...     0   \n",
      "4997     0     1     0     1     0     1     0     1     0     1  ...     1   \n",
      "4998     0     1     0     1     0     1     0     1     0     1  ...     1   \n",
      "4999     1     0     0     1     0     1     0     1     0     1  ...     0   \n",
      "\n",
      "      8183  8184  8185  8186  8187  8188  8189  8190  8191  \n",
      "0        1     0     1     0     1     0     1     0     1  \n",
      "1        1     0     1     0     1     0     1     0     1  \n",
      "2        0     1     0     1     0     1     0     1     0  \n",
      "3        0     1     0     1     0     1     0     1     0  \n",
      "4        0     1     0     1     0     1     0     1     0  \n",
      "...    ...   ...   ...   ...   ...   ...   ...   ...   ...  \n",
      "4995     1     0     1     0     1     0     1     0     1  \n",
      "4996     1     0     1     0     1     0     1     0     1  \n",
      "4997     0     1     0     1     0     1     0     1     0  \n",
      "4998     0     1     0     1     0     1     0     1     0  \n",
      "4999     1     0     1     0     1     0     1     0     1  \n",
      "\n",
      "[5000 rows x 8192 columns]\n"
     ]
    }
   ],
   "source": [
    "import pandas as pd\n",
    "from sklearn.preprocessing import OneHotEncoder\n",
    "\n",
    "dataFramesOnHot = []\n",
    "\n",
    "for i in range(4):\n",
    "    df = dataFrames[i]\n",
    "\n",
    "    encoder = OneHotEncoder(sparse_output=False)  # sparse_output=False para obtener un array denso\n",
    "\n",
    "    # Ajustar y transformar el DataFrame\n",
    "    one_hot_encoded = encoder.fit_transform(df)\n",
    "\n",
    "    # Convertir el resultado a enteros\n",
    "    one_hot_encoded_int = one_hot_encoded.astype(int)\n",
    "\n",
    "    # Convertir a DataFrame para verlo mejor\n",
    "    df_one_hot = pd.DataFrame(one_hot_encoded_int)\n",
    "\n",
    "    dataFramesOnHot.append(df_one_hot)\n",
    "    \n",
    "print(dataFramesOnHot[0])"
   ]
  },
  {
   "cell_type": "markdown",
   "metadata": {},
   "source": [
    "En efecto, las columnas de doblaron, ahora son 8182"
   ]
  },
  {
   "cell_type": "code",
   "execution_count": 58,
   "metadata": {},
   "outputs": [
    {
     "name": "stderr",
     "output_type": "stream",
     "text": [
      "/tmp/ipykernel_7439/1668296745.py:15: FutureWarning: DataFrame.applymap has been deprecated. Use DataFrame.map instead.\n",
      "  red_channel_categorized = dataFramesUnnormalized[0].applymap(classify_intensity)\n"
     ]
    }
   ],
   "source": [
    "import pandas as pd\n",
    "import numpy as np\n",
    "from sklearn.preprocessing import LabelEncoder\n",
    "\n",
    "# Función para clasificar intensidades en categorías\n",
    "def classify_intensity(value):\n",
    "    if value < 85:\n",
    "        return 'L' # Low\n",
    "    elif value < 170:\n",
    "        return 'M' # Medium\n",
    "    else:\n",
    "        return 'H' # High\n",
    "\n",
    "# Aplica la clasificación a cada DataFrame de canal\n",
    "red_channel_categorized = dataFramesUnnormalized[0].applymap(classify_intensity)\n",
    "green_channel_categorized = dataFramesUnnormalized[1].applymap(classify_intensity)\n",
    "blue_channel_categorized = dataFramesUnnormalized[2].applymap(classify_intensity)\n",
    "gray_channel_categorized = dataFramesUnnormalized[3].applymap(classify_intensity)\n",
    "\n",
    "\n",
    "# Usar LabelEncoder para transformar las categorías\n",
    "encoder = LabelEncoder()\n",
    "\n",
    "# Transforma cada canal\n",
    "red_encoded = red_channel_categorized.apply(encoder.fit_transform)\n",
    "green_encoded = green_channel_categorized.apply(encoder.fit_transform)\n",
    "blue_encoded = blue_channel_categorized.apply(encoder.fit_transform)\n",
    "gray_encoded = gray_channel_categorized.apply(encoder.fit_transform)\n"
   ]
  },
  {
   "cell_type": "markdown",
   "metadata": {},
   "source": [
    "**LabelEncoder** con etiquetas textuales"
   ]
  },
  {
   "cell_type": "code",
   "execution_count": 57,
   "metadata": {},
   "outputs": [
    {
     "name": "stdout",
     "output_type": "stream",
     "text": [
      "     0    1    2    3    4    5    6    7    8    9     ... 4086 4087 4088  \\\n",
      "0       H    H    H    H    H    H    M    L    M    L  ...    H    H    H   \n",
      "1       M    M    M    M    M    M    M    M    M    M  ...    H    H    M   \n",
      "2       H    H    H    H    H    H    M    H    H    L  ...    M    M    M   \n",
      "3       M    M    M    M    M    M    M    M    M    M  ...    L    L    L   \n",
      "4       H    H    H    H    H    H    H    H    H    H  ...    L    M    M   \n",
      "...   ...  ...  ...  ...  ...  ...  ...  ...  ...  ...  ...  ...  ...  ...   \n",
      "4995    L    L    L    L    L    L    L    L    L    L  ...    H    H    H   \n",
      "4996    M    M    M    M    M    M    M    M    M    M  ...    M    M    M   \n",
      "4997    H    H    H    H    H    H    H    H    H    H  ...    M    M    M   \n",
      "4998    M    H    H    H    M    H    H    H    H    H  ...    M    M    M   \n",
      "4999    M    M    M    M    M    H    H    H    H    H  ...    M    M    M   \n",
      "\n",
      "     4089 4090 4091 4092 4093 4094 4095  \n",
      "0       H    H    H    H    H    H    H  \n",
      "1       H    H    H    H    H    H    H  \n",
      "2       M    M    L    L    L    L    L  \n",
      "3       L    L    L    L    L    L    L  \n",
      "4       M    M    M    L    M    L    L  \n",
      "...   ...  ...  ...  ...  ...  ...  ...  \n",
      "4995    H    H    H    M    M    M    M  \n",
      "4996    M    M    M    M    M    M    M  \n",
      "4997    M    L    L    M    M    M    M  \n",
      "4998    M    M    M    M    M    M    M  \n",
      "4999    M    M    M    M    M    H    H  \n",
      "\n",
      "[5000 rows x 4096 columns]\n"
     ]
    }
   ],
   "source": [
    "print(red_channel_categorized)"
   ]
  },
  {
   "cell_type": "markdown",
   "metadata": {},
   "source": [
    "**LabelEncoder** con etiquetas numéricas"
   ]
  },
  {
   "cell_type": "code",
   "execution_count": 59,
   "metadata": {},
   "outputs": [
    {
     "name": "stdout",
     "output_type": "stream",
     "text": [
      "      0     1     2     3     4     5     6     7     8     9     ...  4086  \\\n",
      "0        0     0     0     0     0     0     2     1     2     1  ...     0   \n",
      "1        2     2     2     2     2     2     2     2     2     2  ...     0   \n",
      "2        0     0     0     0     0     0     2     0     0     1  ...     2   \n",
      "3        2     2     2     2     2     2     2     2     2     2  ...     1   \n",
      "4        0     0     0     0     0     0     0     0     0     0  ...     1   \n",
      "...    ...   ...   ...   ...   ...   ...   ...   ...   ...   ...  ...   ...   \n",
      "4995     1     1     1     1     1     1     1     1     1     1  ...     0   \n",
      "4996     2     2     2     2     2     2     2     2     2     2  ...     2   \n",
      "4997     0     0     0     0     0     0     0     0     0     0  ...     2   \n",
      "4998     2     0     0     0     2     0     0     0     0     0  ...     2   \n",
      "4999     2     2     2     2     2     0     0     0     0     0  ...     2   \n",
      "\n",
      "      4087  4088  4089  4090  4091  4092  4093  4094  4095  \n",
      "0        0     0     0     0     0     0     0     0     0  \n",
      "1        0     2     0     0     0     0     0     0     0  \n",
      "2        2     2     2     2     1     1     1     1     1  \n",
      "3        1     1     1     1     1     1     1     1     1  \n",
      "4        2     2     2     2     2     1     2     1     1  \n",
      "...    ...   ...   ...   ...   ...   ...   ...   ...   ...  \n",
      "4995     0     0     0     0     0     2     2     2     2  \n",
      "4996     2     2     2     2     2     2     2     2     2  \n",
      "4997     2     2     2     1     1     2     2     2     2  \n",
      "4998     2     2     2     2     2     2     2     2     2  \n",
      "4999     2     2     2     2     2     2     2     0     0  \n",
      "\n",
      "[5000 rows x 4096 columns]\n"
     ]
    }
   ],
   "source": [
    "print(red_encoded)"
   ]
  }
 ],
 "metadata": {
  "kernelspec": {
   "display_name": "TransferStyleProyect",
   "language": "python",
   "name": "python3"
  },
  "language_info": {
   "codemirror_mode": {
    "name": "ipython",
    "version": 3
   },
   "file_extension": ".py",
   "mimetype": "text/x-python",
   "name": "python",
   "nbconvert_exporter": "python",
   "pygments_lexer": "ipython3",
   "version": "3.12.7"
  }
 },
 "nbformat": 4,
 "nbformat_minor": 2
}
