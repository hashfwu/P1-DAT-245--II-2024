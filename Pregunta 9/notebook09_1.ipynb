{
 "cells": [
  {
   "cell_type": "markdown",
   "metadata": {},
   "source": [
    "# Pregunta 9\n",
    "\n",
    "## Usted se escapara al campo luego del examen de IA, deberá llevar varios artículos que no ingresan a su mochila. ¿Cómo optimizaría este problema permitiendo llevar la mayor cantidad de artículos?"
   ]
  },
  {
   "cell_type": "markdown",
   "metadata": {},
   "source": [
    "Existen diversos problemas de la mochila, mas específicamente, este pertenece al problema de la mochila I/O, ya que los elementos no pueden ser fraccionados entre sí. Sean los objetos que llevaré en la mochila con sus respectivos valores de usabilidad en el campo (por ejemplo, un encendedor es más importante que un folder en el campo) y con pesos en gramos: "
   ]
  },
  {
   "cell_type": "code",
   "execution_count": 79,
   "metadata": {},
   "outputs": [
    {
     "name": "stdout",
     "output_type": "stream",
     "text": [
      "        Objeto  Valor  Peso\n",
      "0       Laptop     12  1200\n",
      "1      Celular     50   700\n",
      "2     Cargador     40   200\n",
      "3     Cuaderno     13   600\n",
      "4    Estuchera     22   400\n",
      "5        Libro     14   500\n",
      "6     Paraguas     40   400\n",
      "7       Comida     42   800\n",
      "8    Billetera     32   320\n",
      "9       Folder     15   300\n",
      "10    Tomatodo     41   900\n",
      "11  Encendedor     25   100\n"
     ]
    },
    {
     "data": {
      "text/html": [
       "<div>\n",
       "<style scoped>\n",
       "    .dataframe tbody tr th:only-of-type {\n",
       "        vertical-align: middle;\n",
       "    }\n",
       "\n",
       "    .dataframe tbody tr th {\n",
       "        vertical-align: top;\n",
       "    }\n",
       "\n",
       "    .dataframe thead th {\n",
       "        text-align: right;\n",
       "    }\n",
       "</style>\n",
       "<table border=\"1\" class=\"dataframe\">\n",
       "  <thead>\n",
       "    <tr style=\"text-align: right;\">\n",
       "      <th></th>\n",
       "      <th>Valor</th>\n",
       "      <th>Peso</th>\n",
       "    </tr>\n",
       "  </thead>\n",
       "  <tbody>\n",
       "    <tr>\n",
       "      <th>count</th>\n",
       "      <td>12.000000</td>\n",
       "      <td>12.000000</td>\n",
       "    </tr>\n",
       "    <tr>\n",
       "      <th>mean</th>\n",
       "      <td>28.833333</td>\n",
       "      <td>535.000000</td>\n",
       "    </tr>\n",
       "    <tr>\n",
       "      <th>std</th>\n",
       "      <td>13.603698</td>\n",
       "      <td>318.761809</td>\n",
       "    </tr>\n",
       "    <tr>\n",
       "      <th>min</th>\n",
       "      <td>12.000000</td>\n",
       "      <td>100.000000</td>\n",
       "    </tr>\n",
       "    <tr>\n",
       "      <th>25%</th>\n",
       "      <td>14.750000</td>\n",
       "      <td>315.000000</td>\n",
       "    </tr>\n",
       "    <tr>\n",
       "      <th>50%</th>\n",
       "      <td>28.500000</td>\n",
       "      <td>450.000000</td>\n",
       "    </tr>\n",
       "    <tr>\n",
       "      <th>75%</th>\n",
       "      <td>40.250000</td>\n",
       "      <td>725.000000</td>\n",
       "    </tr>\n",
       "    <tr>\n",
       "      <th>max</th>\n",
       "      <td>50.000000</td>\n",
       "      <td>1200.000000</td>\n",
       "    </tr>\n",
       "  </tbody>\n",
       "</table>\n",
       "</div>"
      ],
      "text/plain": [
       "           Valor         Peso\n",
       "count  12.000000    12.000000\n",
       "mean   28.833333   535.000000\n",
       "std    13.603698   318.761809\n",
       "min    12.000000   100.000000\n",
       "25%    14.750000   315.000000\n",
       "50%    28.500000   450.000000\n",
       "75%    40.250000   725.000000\n",
       "max    50.000000  1200.000000"
      ]
     },
     "execution_count": 79,
     "metadata": {},
     "output_type": "execute_result"
    }
   ],
   "source": [
    "import pandas as pd\n",
    "valores={\n",
    "    'Objeto':['Laptop', 'Celular', 'Cargador', 'Cuaderno', 'Estuchera', 'Libro', 'Paraguas', 'Comida', 'Billetera', 'Folder', 'Tomatodo', 'Encendedor'],\n",
    "    'Valor':[12,50,40,13,22,14,40,42,32,15,41,25],\n",
    "    'Peso':[1200,700,200,600,400,500,400,800,320,300,900,100]\n",
    "}\n",
    "\n",
    "objetos = pd.DataFrame(valores)\n",
    "\n",
    "print(objetos)\n",
    "objetos.describe()"
   ]
  },
  {
   "cell_type": "code",
   "execution_count": 80,
   "metadata": {},
   "outputs": [],
   "source": [
    "# Ganacia, o valor de los objetos\n",
    "# Pesos\n",
    "profit = list(objetos['Valor'])\n",
    "weight = list(objetos['Peso'])\n",
    "# Tamaño de la mochila (Capacidad)\n",
    "W = 3000"
   ]
  },
  {
   "cell_type": "markdown",
   "metadata": {},
   "source": [
    "Una forma de sencilla de resolver esto es con recursión"
   ]
  },
  {
   "cell_type": "code",
   "execution_count": 81,
   "metadata": {},
   "outputs": [],
   "source": [
    "def knapSack(W, wt, val, n, index=None):\n",
    "    if index is None:\n",
    "        index = []\n",
    "\n",
    "    if n == 0 or W == 0:\n",
    "        return 0, index\n",
    "\n",
    "    if wt[n-1] > W:\n",
    "        # Si el peso del enésimo artículo es mayor que la capacidad, no lo incluimos\n",
    "        return knapSack(W, wt, val, n-1, index)\n",
    "    \n",
    "    # Prueba ambos casos: incluir el objeto o no incluirlo\n",
    "    else:\n",
    "        # Caso 1: Incluir el enésimo artículo\n",
    "        included_val, included_index = knapSack(W-wt[n-1], wt, val, n-1, index.copy())\n",
    "        included_val += val[n-1]\n",
    "        included_index.append(n-1)  # Agregar el índice del objeto\n",
    "        \n",
    "        # Caso 2: No incluir el enésimo artículo\n",
    "        excluded_val, excluded_index = knapSack(W, wt, val, n-1, index.copy())\n",
    "        \n",
    "        # Retornar el caso con mayor valor\n",
    "        if included_val > excluded_val:\n",
    "            \n",
    "            return included_val, included_index\n",
    "        else:\n",
    "            return excluded_val, excluded_index"
   ]
  },
  {
   "cell_type": "code",
   "execution_count": 82,
   "metadata": {},
   "outputs": [
    {
     "name": "stdout",
     "output_type": "stream",
     "text": [
      "Valox maximizado: 251\n",
      "Peso llevado: 2920\n",
      "\n",
      "        Objeto  Valor  Peso\n",
      "1      Celular     50   700\n",
      "2     Cargador     40   200\n",
      "4    Estuchera     22   400\n",
      "6     Paraguas     40   400\n",
      "7       Comida     42   800\n",
      "8    Billetera     32   320\n",
      "11  Encendedor     25   100\n"
     ]
    }
   ],
   "source": [
    "n = len(profit)\n",
    "maxValue, indices= knapSack(W, weight, profit, n)\n",
    "\n",
    "print(f'Valox maximizado: {maxValue}')\n",
    "print(f'Peso llevado: {sum(objetos['Peso'].loc[indices])}\\n')\n",
    "\n",
    "# indices = [i-1z for i in indices]\n",
    "print(objetos.loc[indices])"
   ]
  },
  {
   "cell_type": "markdown",
   "metadata": {},
   "source": [
    "El código anterior realiza tantas recursiónes, y es posible que evalue casos que ya se han evalueado, por tanto, es necesario enforcar el problema de manera distinta:"
   ]
  },
  {
   "cell_type": "markdown",
   "metadata": {},
   "source": [
    "Con programación dinámica sin recursividad"
   ]
  },
  {
   "cell_type": "code",
   "execution_count": 83,
   "metadata": {},
   "outputs": [],
   "source": [
    "def knapSack(W, wt, val, n):\n",
    "    K = [[0 for x in range(W + 1)] for x in range(n + 1)]\n",
    "    # Build table K[][] in bottom up manner\n",
    "    for i in range(n + 1):\n",
    "        for w in range(W + 1):\n",
    "            if i == 0 or w == 0:\n",
    "                K[i][w] = 0\n",
    "            elif wt[i-1] <= w:\n",
    "                K[i][w] = max(val[i-1] + K[i-1][w-wt[i-1]], K[i-1][w])\n",
    "            else:\n",
    "                K[i][w] = K[i-1][w]\n",
    "\n",
    "    # return K[n][W]\n",
    "\n",
    "    res = K[n][W]  # valor óptimo\n",
    "    w = W\n",
    "    selected_indices = []\n",
    "\n",
    "    for i in range(n, 0, -1):\n",
    "        # Si el valor viene del artículo actual (es decir, este artículo fue incluido)\n",
    "        if res <= 0:\n",
    "            break\n",
    "        if res != K[i-1][w]:  # Si el valor es diferente, el artículo fue incluido\n",
    "            selected_indices.append(i-1)  # Agregar el índice del artículo\n",
    "            res -= val[i-1]\n",
    "            w -= wt[i-1]\n",
    "\n",
    "    return K[n][W], selected_indices\n"
   ]
  },
  {
   "cell_type": "code",
   "execution_count": 84,
   "metadata": {},
   "outputs": [
    {
     "name": "stdout",
     "output_type": "stream",
     "text": [
      "Valox maximizado: 251\n",
      "Peso llevado: 2920\n",
      "\n",
      "        Objeto  Valor  Peso\n",
      "11  Encendedor     25   100\n",
      "8    Billetera     32   320\n",
      "7       Comida     42   800\n",
      "6     Paraguas     40   400\n",
      "4    Estuchera     22   400\n",
      "2     Cargador     40   200\n",
      "1      Celular     50   700\n"
     ]
    }
   ],
   "source": [
    "maxValue, indices= knapSack(W, weight, profit, n)\n",
    "\n",
    "print(f'Valox maximizado: {maxValue}')\n",
    "print(f'Peso llevado: {sum(objetos['Peso'].loc[indices])}\\n')\n",
    "\n",
    "# indices = [i-1z for i in indices]\n",
    "print(objetos.loc[indices])"
   ]
  },
  {
   "cell_type": "markdown",
   "metadata": {},
   "source": [
    "Así concluimos que lo óptimo para llevar en la mochila es:\n",
    "- Encendedor\n",
    "- Billetera\n",
    "- Comida\n",
    "- Paraguas\n",
    "- Estuchera\n",
    "- Cargador\n",
    "- Celular"
   ]
  },
  {
   "cell_type": "markdown",
   "metadata": {},
   "source": [
    "**Fuentes**\n",
    "- https://www.geeksforgeeks.org/0-1-knapsack-problem-dp-10/"
   ]
  }
 ],
 "metadata": {
  "kernelspec": {
   "display_name": "TransferStyleProyect",
   "language": "python",
   "name": "python3"
  },
  "language_info": {
   "codemirror_mode": {
    "name": "ipython",
    "version": 3
   },
   "file_extension": ".py",
   "mimetype": "text/x-python",
   "name": "python",
   "nbconvert_exporter": "python",
   "pygments_lexer": "ipython3",
   "version": "3.12.7"
  }
 },
 "nbformat": 4,
 "nbformat_minor": 2
}
