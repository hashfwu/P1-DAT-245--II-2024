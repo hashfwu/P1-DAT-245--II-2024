{
 "cells": [
  {
   "cell_type": "markdown",
   "metadata": {},
   "source": [
    "# Pregunta 1\n",
    "\n",
    "## ¿Cuál es el área de su interés que le gustaría investigar multidisciplinariamente con IA? Describa en un párrafo las características del área, métodos y metodologías.\n",
    "\n",
    "### R.-"
   ]
  },
  {
   "cell_type": "markdown",
   "metadata": {},
   "source": [
    "El área de interés que me gustaría investigar es la **generación de imágenes**. Reconozco que este es un propósito muy amplio, pero más específicamente, quiero centrarme en el **renderizado de imágenes con IA**. Un ejemplo de arte que se relaciona con este campo es la **pintura impresionista**, un estilo que aspiraba a capturar el lado vital del mundo. Cuando hablamos de renderizado, en general nos referimos al proceso de representar o procesar una imagen de manera precisa. En el caso del **arte 2D**, esto incluye el renderizado de un lienzo; mientras que lo que me interesa es el **renderizado de superficies 3D**, específicamente utilizando **Blender**. Ya existen extensiones para Blender que permiten realizar renderizados utilizando IA, como [AI-Render](https://github.com/benrugg/AI-Render) y [ComfyUI-BlenderAI-node](https://github.com/AIGODLIKE/ComfyUI-BlenderAI-node). Sin embargo, soy consciente de que los recursos y el conocimiento actual son limitados para alcanzar ese nivel avanzado. Por ello, inicialmente investigaré la **transferencia de estilos** con la ayuda de **PyTorch**, tomando como referencia proyectos ya existentes, como el siguiente tutorial de [PyTorch sobre estilo neural](https://pytorch.org/tutorials/advanced/neural_style_tutorial.html).\n",
    "\n",
    "\n",
    "**Pintura impresionista**\n",
    "\n",
    "<p align=\"center\">\n",
    "<img src=\"images/image01_1.png\" alt=\"Pintura impresionista\" width=\"500\"/>\n",
    "</p>\n",
    "\n",
    "<br>\n",
    "\n",
    "**Dataset**\n",
    "\n",
    "<p align=\"center\">\n",
    "<img src=\"images/image01_2.png\" alt=\"Dataset\" width=\"500\"/>\n",
    "</p>\n",
    "\n",
    "<br>\n",
    "\n",
    "**Transferencia de estilo**\n",
    "\n",
    "<p align=\"center\">\n",
    "<img src=\"images/image01_3.png\" alt=\"Transferencia de estilo\" width=\"500\"/>\n",
    "</p>\n"
   ]
  }
 ],
 "metadata": {
  "language_info": {
   "name": "python"
  }
 },
 "nbformat": 4,
 "nbformat_minor": 2
}
