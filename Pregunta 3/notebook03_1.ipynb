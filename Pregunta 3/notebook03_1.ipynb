{
 "cells": [
  {
   "cell_type": "markdown",
   "metadata": {},
   "source": [
    "# Pregunta 3\n",
    "\n",
    "## Para el preprocesamiento debe usted migrar su dataset de csv u otro formato a arff, una vez realizado ello. Realice un etiqueta onehotencoder, labelencoder, discretización y normalización.\n",
    "\n",
    "### R.-"
   ]
  },
  {
   "cell_type": "markdown",
   "metadata": {},
   "source": [
    "Convirtiendo a `arff`:"
   ]
  },
  {
   "cell_type": "code",
   "execution_count": null,
   "metadata": {},
   "outputs": [],
   "source": [
    "import os\n",
    "\n",
    "current_dir = os.getcwd()\n",
    "\n",
    "input_folder = os.path.join(os.path.dirname(current_dir), \"Pregunta 2/dataset02_2\")"
   ]
  },
  {
   "cell_type": "code",
   "execution_count": null,
   "metadata": {},
   "outputs": [],
   "source": [
    "import os\n",
    "import numpy as np\n",
    "import pandas as pd\n",
    "from PIL import Image\n",
    "\n",
    "red_data_unnormalized = []\n",
    "green_data_unnormalized = []\n",
    "blue_data_unnormalized = []\n",
    "gray_data_unnormalized = []\n",
    "\n",
    "# Recorre cada imagen en el directorio\n",
    "for filename in os.listdir(input_folder):\n",
    "    if filename.endswith('.jpg'):\n",
    "        img_path = os.path.join(input_folder, filename)\n",
    "        \n",
    "        # Carga la imagen\n",
    "        img = Image.open(img_path)\n",
    "        \n",
    "        # Convierte la imagen a RGB\n",
    "        img = img.convert('RGB')\n",
    "        \n",
    "        # Convierte la imagen a un array de numpy\n",
    "        img_array = np.array(img)\n",
    "        \n",
    "        # Separa los canales rojo, verde y azul\n",
    "        red_channel = img_array[:,:,0].flatten()   # 4096 elementos\n",
    "        green_channel = img_array[:,:,1].flatten() # 4096 elementos\n",
    "        blue_channel = img_array[:,:,2].flatten()  # 4096 elementos\n",
    "        \n",
    "        # Calcula la escala de grises\n",
    "        grayscale = np.dot(img_array[...,:3], [0.2989, 0.5870, 0.1140])  # Convierte a escala de grises\n",
    "        gray_channel = grayscale.flatten()  # 4096 elementos\n",
    "\n",
    "        red_data_unnormalized.append(red_channel)\n",
    "        green_data_unnormalized.append(green_channel)\n",
    "        blue_data_unnormalized.append(blue_channel)\n",
    "        gray_data_unnormalized.append(gray_channel)\n",
    "        "
   ]
  },
  {
   "cell_type": "code",
   "execution_count": null,
   "metadata": {},
   "outputs": [],
   "source": [
    "dataFramesUnnormalized=[]\n",
    "\n",
    "for data in [red_data_unnormalized, green_data_unnormalized, blue_data_unnormalized, gray_data_unnormalized]:\n",
    "    df = pd.DataFrame(data)  # Cada lista tiene 5000 elementos, cada uno con 4096 valores\n",
    "    dataFramesUnnormalized.append(df)"
   ]
  },
  {
   "cell_type": "code",
   "execution_count": 1,
   "metadata": {},
   "outputs": [],
   "source": [
    "import pandas as pd\n",
    "\n",
    "def dataframe_to_arff(df, relation_name, file_name):\n",
    "    with open(file_name, 'w') as f:\n",
    "        # Escribir los metadatos del archivo ARFF\n",
    "        f.write(f\"@RELATION {relation_name}\\n\\n\")\n",
    "        \n",
    "        # Escribir las declaraciones de atributos (una por cada columna del DataFrame)\n",
    "        for i in range(df.shape[1]):\n",
    "            f.write(f\"@ATTRIBUTE pixel{i} NUMERIC\\n\")\n",
    "        \n",
    "        # No hay clase en tu caso, así que omitimos la definición de clase\n",
    "        \n",
    "        # Escribir los datos\n",
    "        f.write(\"\\n@DATA\\n\")\n",
    "        for row in df.itertuples(index=False):\n",
    "            f.write(','.join(map(str, row)) + \"\\n\")"
   ]
  },
  {
   "cell_type": "code",
   "execution_count": null,
   "metadata": {},
   "outputs": [],
   "source": [
    "name_relation = ['r', 'g', 'b', 'k']"
   ]
  },
  {
   "cell_type": "code",
   "execution_count": null,
   "metadata": {},
   "outputs": [],
   "source": [
    "for i in range(4):\n",
    "    # Llamada a la función para generar el archivo ARFF\n",
    "    dataframe_to_arff(dataFramesUnnormalized[i], relation_name=\"images_dataset\", file_name=f\"data02_{i+1}.arff\")"
   ]
  }
 ],
 "metadata": {
  "kernelspec": {
   "display_name": "TransferStyleProyect",
   "language": "python",
   "name": "python3"
  },
  "language_info": {
   "codemirror_mode": {
    "name": "ipython",
    "version": 3
   },
   "file_extension": ".py",
   "mimetype": "text/x-python",
   "name": "python",
   "nbconvert_exporter": "python",
   "pygments_lexer": "ipython3",
   "version": "3.12.7"
  }
 },
 "nbformat": 4,
 "nbformat_minor": 2
}
