{
 "cells": [
  {
   "cell_type": "markdown",
   "metadata": {},
   "source": [
    "# Pregunta 8\n",
    "\n",
    "## De las características de altura, peso y talla; realice su propio dataset determinando cuál será su clase. Realice el cálculo de la entropía y ganancia de información.\n",
    "\n",
    "### R.-"
   ]
  },
  {
   "cell_type": "markdown",
   "metadata": {
    "vscode": {
     "languageId": "plaintext"
    }
   },
   "source": [
    "**What is Entropy?**\n",
    "\n",
    "Entropy is used for a lot of things in data science. For example, entropy can be used to build classification trees which are used to classify things or datasets. Entropy is also the basis of something called 'mutual information' which quantifies the relationship between two things. Entropy is also the basis of Relative Entropy aka ‘The Kullback-Liebler distance’ and Cross-Entropy which show up all over the place including fancy dimension reduction algorithms like t-SNE and UMAP. What these three things have in common is that they all use entropy or something derived from it to quantify similarities and differences so let’s learn how entropy quantifies similarities and differences.\n",
    "\n",
    "Entropy is the measure of uncertainty of a variable. The more uncertain it is, the higher the entropy is.\n",
    "\n",
    "> *¿Qúe es la entropía?*\n",
    ">\n",
    "> *La entropía se utiliza para muchas cosas en la ciencia de datos. Por ejemplo, la entropía se puede utilizar para crear árboles de clasificación que se utilizan para clasificar cosas o conjuntos de datos. La entropía también es la base de algo llamado \"información mutua\" que cuantifica la relación entre dos cosas. La entropía también es la base de la entropía relativa, también conocida como \"la distancia Kullback-Liebler\" y la entropía cruzada, que aparecen por todas partes, incluidos sofisticados algoritmos de reducción de dimensiones como t-SNE y UMAP. Lo que estas tres cosas tienen en común es que todas usan la entropía o algo derivado de ella para cuantificar similitudes y diferencias, así que aprendamos cómo la entropía cuantifica similitudes y diferencias.*\n",
    ">\n",
    "> *La entropía es la medida de incertidumbre de una variable. Cuanto más incierto es, mayor es la entropía.*"
   ]
  },
  {
   "cell_type": "markdown",
   "metadata": {},
   "source": [
    "Fórmula para la entropía para una variable:\n",
    "\n",
    "$p(x) \\log_2 (p(x))$\n",
    "\n",
    "Fórmula para la entropía para un sistema\n",
    "\n",
    "$H(x)=-\\sum_{x=0}^{n}{p(x) \\log_2(p(x))}$"
   ]
  },
  {
   "cell_type": "markdown",
   "metadata": {},
   "source": [
    "Creando un dataset"
   ]
  },
  {
   "cell_type": "markdown",
   "metadata": {},
   "source": [
    "La clase de este dataset será la talla, así tendremos"
   ]
  },
  {
   "cell_type": "code",
   "execution_count": 46,
   "metadata": {},
   "outputs": [],
   "source": [
    "import numpy as np\n",
    "from scipy.stats import multivariate_normal\n",
    "\n",
    "# Definir la media y matriz de covarianza\n",
    "mean = [1.7, 70, 52]  # Altura peso, y talla promedio\n",
    "\n",
    "cov = [[0.09, 0.15, 0.05],\n",
    "       [0.15, 3.4, 0.1],\n",
    "       [0.05, 0.1, 4]]  # Matriz de covarianza\n",
    "\n",
    "# Generar datos\n",
    "data = multivariate_normal.rvs(mean, cov, size=100)\n",
    "\n",
    "# Crear DataFrame\n",
    "import pandas as pd\n",
    "df = pd.DataFrame(data, columns=['Altura', 'Peso', 'Talla'])\n",
    "\n",
    "df['Talla'] = np.round(df['Talla']).astype(int)\n",
    "\n",
    "# df['']"
   ]
  },
  {
   "cell_type": "code",
   "execution_count": 47,
   "metadata": {},
   "outputs": [
    {
     "name": "stdout",
     "output_type": "stream",
     "text": [
      "      Altura       Peso  Talla\n",
      "0   2.291224  71.573518     52\n",
      "1   1.331398  70.097056     52\n",
      "2   0.803125  69.567036     52\n",
      "3   1.454176  70.897794     48\n",
      "4   1.440983  69.029468     50\n",
      "..       ...        ...    ...\n",
      "95  1.560757  67.519436     47\n",
      "96  2.030334  70.175749     49\n",
      "97  1.571238  73.524368     52\n",
      "98  1.679529  72.825874     52\n",
      "99  1.302324  67.214814     54\n",
      "\n",
      "[100 rows x 3 columns]\n"
     ]
    }
   ],
   "source": [
    "print(df)"
   ]
  },
  {
   "cell_type": "code",
   "execution_count": 48,
   "metadata": {},
   "outputs": [
    {
     "data": {
      "text/html": [
       "<div>\n",
       "<style scoped>\n",
       "    .dataframe tbody tr th:only-of-type {\n",
       "        vertical-align: middle;\n",
       "    }\n",
       "\n",
       "    .dataframe tbody tr th {\n",
       "        vertical-align: top;\n",
       "    }\n",
       "\n",
       "    .dataframe thead th {\n",
       "        text-align: right;\n",
       "    }\n",
       "</style>\n",
       "<table border=\"1\" class=\"dataframe\">\n",
       "  <thead>\n",
       "    <tr style=\"text-align: right;\">\n",
       "      <th></th>\n",
       "      <th>Altura</th>\n",
       "      <th>Peso</th>\n",
       "      <th>Talla</th>\n",
       "    </tr>\n",
       "  </thead>\n",
       "  <tbody>\n",
       "    <tr>\n",
       "      <th>count</th>\n",
       "      <td>100.000000</td>\n",
       "      <td>100.000000</td>\n",
       "      <td>100.000000</td>\n",
       "    </tr>\n",
       "    <tr>\n",
       "      <th>mean</th>\n",
       "      <td>1.671530</td>\n",
       "      <td>69.936435</td>\n",
       "      <td>52.150000</td>\n",
       "    </tr>\n",
       "    <tr>\n",
       "      <th>std</th>\n",
       "      <td>0.304940</td>\n",
       "      <td>1.744611</td>\n",
       "      <td>2.001893</td>\n",
       "    </tr>\n",
       "    <tr>\n",
       "      <th>min</th>\n",
       "      <td>0.803125</td>\n",
       "      <td>65.879686</td>\n",
       "      <td>47.000000</td>\n",
       "    </tr>\n",
       "    <tr>\n",
       "      <th>25%</th>\n",
       "      <td>1.440794</td>\n",
       "      <td>68.483216</td>\n",
       "      <td>51.000000</td>\n",
       "    </tr>\n",
       "    <tr>\n",
       "      <th>50%</th>\n",
       "      <td>1.680115</td>\n",
       "      <td>69.938527</td>\n",
       "      <td>52.000000</td>\n",
       "    </tr>\n",
       "    <tr>\n",
       "      <th>75%</th>\n",
       "      <td>1.908499</td>\n",
       "      <td>71.218195</td>\n",
       "      <td>53.000000</td>\n",
       "    </tr>\n",
       "    <tr>\n",
       "      <th>max</th>\n",
       "      <td>2.307982</td>\n",
       "      <td>73.798667</td>\n",
       "      <td>58.000000</td>\n",
       "    </tr>\n",
       "  </tbody>\n",
       "</table>\n",
       "</div>"
      ],
      "text/plain": [
       "           Altura        Peso       Talla\n",
       "count  100.000000  100.000000  100.000000\n",
       "mean     1.671530   69.936435   52.150000\n",
       "std      0.304940    1.744611    2.001893\n",
       "min      0.803125   65.879686   47.000000\n",
       "25%      1.440794   68.483216   51.000000\n",
       "50%      1.680115   69.938527   52.000000\n",
       "75%      1.908499   71.218195   53.000000\n",
       "max      2.307982   73.798667   58.000000"
      ]
     },
     "execution_count": 48,
     "metadata": {},
     "output_type": "execute_result"
    }
   ],
   "source": [
    "df.describe()"
   ]
  },
  {
   "cell_type": "markdown",
   "metadata": {},
   "source": [
    "La clase será la talla, lo que haremos será hacer un LabelEncoder. Tomamos como referencia las tallas de pantalón de https://www.confeccionesgala.com/equivalencia-de-tallas/."
   ]
  },
  {
   "cell_type": "markdown",
   "metadata": {},
   "source": [
    "Función de mapeo"
   ]
  },
  {
   "cell_type": "code",
   "execution_count": 49,
   "metadata": {},
   "outputs": [],
   "source": [
    "# Definir una función para mapear las tallas a categorías\n",
    "def map_talla(talla):\n",
    "    if talla < 44:\n",
    "        return 'XS'\n",
    "    elif 44 <= talla < 48:\n",
    "        return 'S'\n",
    "    elif 48 <= talla < 52:\n",
    "        return 'M'\n",
    "    elif 52 <= talla < 56:\n",
    "        return 'L'\n",
    "    elif 56 <= talla < 60:\n",
    "        return 'XL'\n",
    "    elif 60 <= talla < 64:\n",
    "        return 'XXL'\n",
    "    elif talla >= 68:\n",
    "        return 'XXXL'\n",
    "    else:\n",
    "        return 'unknown'"
   ]
  },
  {
   "cell_type": "code",
   "execution_count": 50,
   "metadata": {},
   "outputs": [
    {
     "name": "stdout",
     "output_type": "stream",
     "text": [
      "      Altura       Peso Talla\n",
      "0   2.291224  71.573518     L\n",
      "1   1.331398  70.097056     L\n",
      "2   0.803125  69.567036     L\n",
      "3   1.454176  70.897794     M\n",
      "4   1.440983  69.029468     M\n",
      "..       ...        ...   ...\n",
      "95  1.560757  67.519436     S\n",
      "96  2.030334  70.175749     M\n",
      "97  1.571238  73.524368     L\n",
      "98  1.679529  72.825874     L\n",
      "99  1.302324  67.214814     L\n",
      "\n",
      "[100 rows x 3 columns]\n"
     ]
    }
   ],
   "source": [
    "# Aplicar la función al DataFrame\n",
    "df['Talla'] = df['Talla'].apply(map_talla)\n",
    "\n",
    "print(df)\n"
   ]
  },
  {
   "cell_type": "markdown",
   "metadata": {},
   "source": [
    "Así la clase es **Categoria**"
   ]
  },
  {
   "cell_type": "markdown",
   "metadata": {},
   "source": [
    "Función para calcular la entropía"
   ]
  },
  {
   "cell_type": "code",
   "execution_count": 51,
   "metadata": {},
   "outputs": [],
   "source": [
    "from math import log2\n",
    "\n",
    "def calcular_entropia(clase):\n",
    "    valores, cuentas = np.unique(clase, return_counts=True)\n",
    "    probabilidades = cuentas / len(clase)\n",
    "    entropia = -np.sum([p * log2(p) for p in probabilidades if p > 0])\n",
    "    return entropia"
   ]
  },
  {
   "cell_type": "markdown",
   "metadata": {},
   "source": [
    "Como son valores continuos los del dataset, calculamos la entropía por intervalos usando *binarización*"
   ]
  },
  {
   "cell_type": "code",
   "execution_count": 52,
   "metadata": {},
   "outputs": [],
   "source": [
    "import numpy as np\n",
    "import pandas as pd\n",
    "\n",
    "\n",
    "def imprimir_tabla(df, target_col, bins=5):\n",
    "    \n",
    "    # Discretizar las columnas continuas\n",
    "    for col in df.columns:\n",
    "        if col != target_col and df[col].dtype != 'object':\n",
    "            df[col] = pd.cut(df[col], bins=bins)\n",
    "    \n",
    "    entropia_total = calcular_entropia(df[target_col])\n",
    "\n",
    "    print(f\"\\t\\tTotal\\tXS\\tS\\tM\\tL\\tXL\\tXXL\\tXXXL\\tEntropia\")\n",
    "        \n",
    "    xs = df[target_col].value_counts().get('XS', 0)\n",
    "    s = df[target_col].value_counts().get('S', 0)\n",
    "    m = df[target_col].value_counts().get('M', 0)\n",
    "    l = df[target_col].value_counts().get('L', 0)\n",
    "    xl = df[target_col].value_counts().get('XL', 0)\n",
    "    xxl = df[target_col].value_counts().get('XXL', 0)\n",
    "    xxxl = df[target_col].value_counts().get('XXXL', 0)\n",
    "    \n",
    "    columns_text_1 = f'{xs}\\t{s}\\t{m}\\t{l}\\t{xl}\\t{xxl}\\t{xxxl}'\n",
    "    \n",
    "    print(f\"Pareja\\t\\t{len(df)}\\t{columns_text_1}\\t{entropia_total:.6f}\")\n",
    "    print(\"\")\n",
    "\n",
    "    for col in df.columns:\n",
    "        if col == target_col:\n",
    "            continue\n",
    "        \n",
    "        print(f\"{col}\")\n",
    "        print(f\"Intervalo\\t\\tXS\\tS\\tM\\tL\\tXL\\tXXL\\tXXXL\\tEntropia\")\n",
    "        \n",
    "        for valor in df[col].unique():\n",
    "            subset = df[df[col] == valor]\n",
    "            entropia_cond = calcular_entropia(subset[target_col])\n",
    "            cuenta_xs = subset[target_col].value_counts().get('XS', 0)\n",
    "            cuenta_s = subset[target_col].value_counts().get('S', 0)\n",
    "            cuenta_m = subset[target_col].value_counts().get('M', 0)\n",
    "            cuenta_l = subset[target_col].value_counts().get('L', 0)\n",
    "            cuenta_xl = subset[target_col].value_counts().get('XL', 0)\n",
    "            cuenta_xxl = subset[target_col].value_counts().get('XXL', 0)\n",
    "            cuenta_xxxl = subset[target_col].value_counts().get('XXXL', 0)\n",
    "\n",
    "            columns_text_2 = f'{cuenta_xs:.4f}\\t{cuenta_s:.4f}\\t{cuenta_m:.4f}\\t{cuenta_l:.4f}\\t{cuenta_xl:.4f}\\t{cuenta_xxl:.4f}\\t{cuenta_xxxl:.4f}'\n",
    "            \n",
    "            print(f\"{valor}\")\n",
    "            print(f\"\\t\\t{len(subset)}\\t{columns_text_2}\\t{entropia_cond:.6f}\")\n",
    "            # print(f\"\\t\\t{len(subset)}\\t{columns_text_2}\\t{entropia_cond:.6f}\")\n",
    "            \n",
    "        \n",
    "        print(\"\")"
   ]
  },
  {
   "cell_type": "code",
   "execution_count": 53,
   "metadata": {},
   "outputs": [
    {
     "name": "stdout",
     "output_type": "stream",
     "text": [
      "\t\tTotal\tXS\tS\tM\tL\tXL\tXXL\tXXXL\tEntropia\n",
      "Pareja\t\t100\t0\t2\t29\t63\t6\t0\t0\t1.294258\n",
      "\n",
      "Altura\n",
      "Intervalo\t\tXS\tS\tM\tL\tXL\tXXL\tXXXL\tEntropia\n",
      "(2.007, 2.308]\n",
      "\t\t13\t0.0000\t0.0000\t3.0000\t9.0000\t1.0000\t0.0000\t0.0000\t1.140116\n",
      "(1.104, 1.405]\n",
      "\t\t22\t0.0000\t0.0000\t6.0000\t13.0000\t3.0000\t0.0000\t0.0000\t1.351687\n",
      "(0.802, 1.104]\n",
      "\t\t2\t0.0000\t0.0000\t1.0000\t1.0000\t0.0000\t0.0000\t0.0000\t1.000000\n",
      "(1.405, 1.706]\n",
      "\t\t28\t0.0000\t1.0000\t10.0000\t16.0000\t1.0000\t0.0000\t0.0000\t1.335238\n",
      "(1.706, 2.007]\n",
      "\t\t35\t0.0000\t1.0000\t9.0000\t24.0000\t1.0000\t0.0000\t0.0000\t1.170185\n",
      "\n",
      "Peso\n",
      "Intervalo\t\tXS\tS\tM\tL\tXL\tXXL\tXXXL\tEntropia\n",
      "(70.631, 72.215]\n",
      "\t\t29\t0.0000\t0.0000\t7.0000\t20.0000\t2.0000\t0.0000\t0.0000\t1.130738\n",
      "(69.047, 70.631]\n",
      "\t\t32\t0.0000\t1.0000\t9.0000\t22.0000\t0.0000\t0.0000\t0.0000\t1.042599\n",
      "(67.463, 69.047]\n",
      "\t\t25\t0.0000\t1.0000\t10.0000\t11.0000\t3.0000\t0.0000\t0.0000\t1.602740\n",
      "(65.872, 67.463]\n",
      "\t\t6\t0.0000\t0.0000\t1.0000\t5.0000\t0.0000\t0.0000\t0.0000\t0.650022\n",
      "(72.215, 73.799]\n",
      "\t\t8\t0.0000\t0.0000\t2.0000\t5.0000\t1.0000\t0.0000\t0.0000\t1.298795\n",
      "\n"
     ]
    }
   ],
   "source": [
    "imprimir_tabla(df, 'Talla', bins=5)"
   ]
  },
  {
   "cell_type": "markdown",
   "metadata": {},
   "source": [
    "La ganancia de información se calcula de la siguiente manera:\n",
    "\n",
    "$ Ganancia(S,A) = Entropia(S)−\\sum_{v \\in Valores(A)}{( \\frac{∣Sv∣}{∣S∣} \\times Entropia(S_v))}$\n",
    "\n",
    "Donde:\n",
    "\n",
    "- $S$ es el conjunto de datos completo.\n",
    "- $A$ es el atributo para el cual estamos calculando la ganancia.\n",
    "- $Valores(A)$ son los distintos valores que toma el atributo $A$.\n",
    "- $Sv$​ es el subconjunto de S donde el atributo $A$ tiene el valor $v$.\n",
    "- $∣Sv​∣$ es el número de instancias en $Sv$​.\n",
    "- $Entropía(S)$ es la entropía del conjunto completo.\n",
    "- $Entropía(Sv​)$ es la entropía del subconjunto $Sv$​."
   ]
  },
  {
   "cell_type": "code",
   "execution_count": 54,
   "metadata": {},
   "outputs": [],
   "source": [
    "def calcular_ganancia(df, atributo, target_col):\n",
    "    entropia_total = calcular_entropia(df[target_col])\n",
    "    valores, cuentas = np.unique(df[atributo], return_counts=True)\n",
    "    entropia_ponderada = 0.0\n",
    "    for valor, cuenta in zip(valores, cuentas):\n",
    "        subset = df[df[atributo] == valor]\n",
    "        entropia_subset = calcular_entropia(subset[target_col])\n",
    "        entropia_ponderada += (cuenta / len(df)) * entropia_subset\n",
    "    ganancia = entropia_total - entropia_ponderada\n",
    "    return ganancia\n"
   ]
  },
  {
   "cell_type": "code",
   "execution_count": 55,
   "metadata": {},
   "outputs": [
    {
     "name": "stdout",
     "output_type": "stream",
     "text": [
      "Ganancia de Información para 'Altura': 0.045240\n",
      "Ganancia de Información para 'Peso': 0.089122\n"
     ]
    }
   ],
   "source": [
    "def calcular_ganancias(df, target_col):\n",
    "    atributos = [col for col in df.columns if col != target_col]\n",
    "    ganancias = {}\n",
    "    for atributo in atributos:\n",
    "        ganancia = calcular_ganancia(df, atributo, target_col)\n",
    "        ganancias[atributo] = ganancia\n",
    "    return ganancias\n",
    "\n",
    "\n",
    "ganancias = calcular_ganancias(df, 'Talla')\n",
    "for atributo, ganancia in ganancias.items():\n",
    "    print(f\"Ganancia de Información para '{atributo}': {ganancia:.6f}\")\n"
   ]
  }
 ],
 "metadata": {
  "kernelspec": {
   "display_name": "TransferStyleProyect",
   "language": "python",
   "name": "python3"
  },
  "language_info": {
   "codemirror_mode": {
    "name": "ipython",
    "version": 3
   },
   "file_extension": ".py",
   "mimetype": "text/x-python",
   "name": "python",
   "nbconvert_exporter": "python",
   "pygments_lexer": "ipython3",
   "version": "3.12.7"
  }
 },
 "nbformat": 4,
 "nbformat_minor": 2
}
